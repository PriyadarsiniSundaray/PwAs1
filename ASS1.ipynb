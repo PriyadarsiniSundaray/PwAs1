{
 "cells": [
  {
   "cell_type": "code",
   "execution_count": 6,
   "id": "7dc6da7c-4515-4d7d-820f-8bb24a0e1d38",
   "metadata": {},
   "outputs": [
    {
     "name": "stdout",
     "output_type": "stream",
     "text": [
      "Before swap x: 10 and y: 22\n",
      "After swap x: 22 and y: 10\n"
     ]
    }
   ],
   "source": [
    "#Q1\n",
    "\n",
    "x = 10\n",
    "y = 22\n",
    "\n",
    "def swap_variables(x,y):\n",
    "    print(f'Before swap x: {x} and y: {y}')\n",
    "    x,y = y, x\n",
    "    print(f'After swap x: {x} and y: {y}')\n",
    "    \n",
    "swap_variables(x,y)"
   ]
  },
  {
   "cell_type": "code",
   "execution_count": 7,
   "id": "71266ca8-64cc-4ae6-b9a9-34d835e22158",
   "metadata": {},
   "outputs": [
    {
     "name": "stdin",
     "output_type": "stream",
     "text": [
      "Enter the length of the rectangle:  20\n",
      "Enter the width of the rectangle:  12\n"
     ]
    },
    {
     "name": "stdout",
     "output_type": "stream",
     "text": [
      "The area of the rectangle is: 240.0\n"
     ]
    }
   ],
   "source": [
    "#Q2\n",
    "\n",
    "\n",
    "length = float(input(\"Enter the length of the rectangle: \"))\n",
    "width = float(input(\"Enter the width of the rectangle: \")) \n",
    "\n",
    "area = length * width \n",
    "\n",
    "print(\"The area of the rectangle is:\", area) "
   ]
  },
  {
   "cell_type": "code",
   "execution_count": 8,
   "id": "c45a0d98-b41b-41a3-8904-377539b673b7",
   "metadata": {},
   "outputs": [
    {
     "name": "stdin",
     "output_type": "stream",
     "text": [
      "Enter temperature in Celsius:  66\n"
     ]
    },
    {
     "name": "stdout",
     "output_type": "stream",
     "text": [
      "66.0 Celsius is equal to 150.80 Fahrenheit\n"
     ]
    }
   ],
   "source": [
    "#Q3\n",
    "\n",
    "celsius_temperature = float(input(\"Enter temperature in Celsius: \"))\n",
    "fahrenheit_temperature = (celsius_temperature * 9/5) + 32\n",
    "print(f\"{celsius_temperature} Celsius is equal to {fahrenheit_temperature:.2f} Fahrenheit\")"
   ]
  },
  {
   "cell_type": "code",
   "execution_count": 11,
   "id": "63f1b69d-1fc0-493c-9476-95239dc47182",
   "metadata": {},
   "outputs": [
    {
     "name": "stdin",
     "output_type": "stream",
     "text": [
      "Enter a string:  priyaaaa\n"
     ]
    },
    {
     "name": "stdout",
     "output_type": "stream",
     "text": [
      "The length of the input string is: 8\n"
     ]
    }
   ],
   "source": [
    "\n",
    "#String_Based_Questions\n",
    "\n",
    "\n",
    "#Q1\n",
    "\n",
    "input_string = input(\"Enter a string: \")\n",
    "\n",
    "string_length = len(input_string)\n",
    "\n",
    "print(\"The length of the input string is:\", string_length)"
   ]
  },
  {
   "cell_type": "code",
   "execution_count": 12,
   "id": "c86da7e3-11eb-419c-928e-282a9ecc198f",
   "metadata": {},
   "outputs": [
    {
     "name": "stdin",
     "output_type": "stream",
     "text": [
      "Enter a sentence:  how are you\n"
     ]
    },
    {
     "name": "stdout",
     "output_type": "stream",
     "text": [
      "Number of vowels: 5\n"
     ]
    }
   ],
   "source": [
    "#Q2\n",
    "\n",
    "\n",
    "sentence = input(\"Enter a sentence: \")\n",
    "\n",
    "vowel_count = 0\n",
    "\n",
    "for char in sentence:\n",
    "   \n",
    "    char_lower = char.lower()\n",
    "\n",
    "    if char_lower in \"aeiou\":\n",
    "        vowel_count += 1\n",
    "\n",
    "print(\"Number of vowels:\", vowel_count)"
   ]
  },
  {
   "cell_type": "code",
   "execution_count": 13,
   "id": "033779ae-f679-4bbe-83f8-76574ab7a53c",
   "metadata": {},
   "outputs": [
    {
     "name": "stdin",
     "output_type": "stream",
     "text": [
      "Enter a string:  klpoi\n"
     ]
    },
    {
     "name": "stdout",
     "output_type": "stream",
     "text": [
      "Reversed string: ioplk\n"
     ]
    }
   ],
   "source": [
    "#Q3\n",
    "\n",
    "\n",
    "input_string = input(\"Enter a string: \")\n",
    "\n",
    "reversed_string = input_string[::-1]\n",
    "\n",
    "print(\"Reversed string:\", reversed_string)"
   ]
  },
  {
   "cell_type": "code",
   "execution_count": 15,
   "id": "e3950242-64df-4d8d-84a9-a851f0f1f2e9",
   "metadata": {},
   "outputs": [
    {
     "name": "stdin",
     "output_type": "stream",
     "text": [
      "Enter a string:  PythOn\n"
     ]
    },
    {
     "name": "stdout",
     "output_type": "stream",
     "text": [
      "The input string is not a palindrome.\n"
     ]
    }
   ],
   "source": [
    "#Q4\n",
    "\n",
    "\n",
    "input_string = input(\"Enter a string: \")\n",
    "\n",
    "cleaned_string = input_string.replace(\" \", \"\").lower()\n",
    "\n",
    "reversed_string = cleaned_string[::-1]\n",
    "\n",
    "if cleaned_string == reversed_string:\n",
    "    print(\"The input string is a palindrome.\")\n",
    "else:\n",
    "    print(\"The input string is not a palindrome.\")"
   ]
  },
  {
   "cell_type": "code",
   "execution_count": 16,
   "id": "bc4bd7eb-1139-47e5-b003-53658962ed63",
   "metadata": {},
   "outputs": [
    {
     "name": "stdin",
     "output_type": "stream",
     "text": [
      "Enter a string:  loppo\n"
     ]
    },
    {
     "name": "stdout",
     "output_type": "stream",
     "text": [
      "Modified string without spaces: loppo\n"
     ]
    }
   ],
   "source": [
    "#Q5\n",
    "\n",
    "input_string = input(\"Enter a string: \")\n",
    "\n",
    "modified_string = \"\"\n",
    "\n",
    "for char in input_string:\n",
    "    if char != \" \":\n",
    "        modified_string += char\n",
    "print(\"Modified string without spaces:\", modified_string)"
   ]
  },
  {
   "cell_type": "code",
   "execution_count": null,
   "id": "c9a446f3-ec17-410a-bdcc-da4da0559e28",
   "metadata": {},
   "outputs": [],
   "source": []
  }
 ],
 "metadata": {
  "kernelspec": {
   "display_name": "Python 3 (ipykernel)",
   "language": "python",
   "name": "python3"
  },
  "language_info": {
   "codemirror_mode": {
    "name": "ipython",
    "version": 3
   },
   "file_extension": ".py",
   "mimetype": "text/x-python",
   "name": "python",
   "nbconvert_exporter": "python",
   "pygments_lexer": "ipython3",
   "version": "3.10.8"
  }
 },
 "nbformat": 4,
 "nbformat_minor": 5
}
